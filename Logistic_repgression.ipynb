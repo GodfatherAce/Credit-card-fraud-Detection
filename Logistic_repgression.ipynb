import pandas as pd
from pandas import compat
import statsmodels.api as sm
import pylab as pl
import numpy as np
compat.PY3 = True

fields=['age','Annual_Sal','Avg_Salary','Gender','balance','credit_score']
df = pd.read_csv("Credit_Card_Age_CurrentBalance.csv",skipinitialspace=True,usecols=fields)
#df.columns = ["chk_acc","duration","history","purpose","amount","savings_acc","employ_since","install_rate","pers_status","debtors","residence_since","property","age","other_plans","housing","existing_credit","job","no_people_liab","telephone","foreign_worker","admit"]

#pls note that I am only retaining numeric variables
#cols_to_keep = ['age','Annual_Sal','Avg_Salary','Gender','balance','credit_score']
cols_to_keep=['Gender','Avg_Salary','balance','credit_score']
# rank of cols_to_keep is 8
print np.linalg.matrix_rank(df[cols_to_keep].values)
data = df[cols_to_keep]

data['intercept'] = 1.0

train_cols = data.columns[1:]

#to check the rank of train_cols, which in this case is 3
print np.linalg.matrix_rank(data[train_cols].values)

#fit logit model
logit = sm.Logit(data['Gender'], data[train_cols])
result = logit.fit(method='bfgs')
print result.summary()