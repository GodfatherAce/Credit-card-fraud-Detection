import pandas as pd
fields=['age','Annual_Sal','Avg_Salary','Gender','balance','credit_score']
df = pd.read_csv('Credit_Card_Age_CurrentBalance.csv',usecols=fields)
X = df.iloc[:, 1:].values
y = df.iloc[:, 0].values
df = 0
print(X.shape)
print(y.shape)

import matplotlib.pyplot as plt
%matplotlib inline

def plot_digit(X, y, idx):
    img = X[idx].shape
    plt.imshow(img, cmap='Greys',  interpolation='nearest')
    plt.title('true label: %d' % y[idx])
    plt.show()

plot_digit(X, y, 10) 